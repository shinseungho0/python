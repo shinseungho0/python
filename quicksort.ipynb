{
  "nbformat": 4,
  "nbformat_minor": 0,
  "metadata": {
    "colab": {
      "provenance": [],
      "authorship_tag": "ABX9TyNRy3phTFaLleSKESCB/Da5",
      "include_colab_link": true
    },
    "kernelspec": {
      "name": "python3",
      "display_name": "Python 3"
    },
    "language_info": {
      "name": "python"
    }
  },
  "cells": [
    {
      "cell_type": "markdown",
      "metadata": {
        "id": "view-in-github",
        "colab_type": "text"
      },
      "source": [
        "<a href=\"https://colab.research.google.com/github/shinseungho0/python/blob/main/quicksort.ipynb\" target=\"_parent\"><img src=\"https://colab.research.google.com/assets/colab-badge.svg\" alt=\"Open In Colab\"/></a>"
      ]
    },
    {
      "cell_type": "code",
      "execution_count": 1,
      "metadata": {
        "id": "ZDpW8FSez7cA",
        "colab": {
          "base_uri": "https://localhost:8080/"
        },
        "outputId": "036c2bed-cdaa-4f95-8f23-82581847d11d"
      },
      "outputs": [
        {
          "output_type": "stream",
          "name": "stdout",
          "text": [
            "[1, 20, 76, 90, 229, 246, 258, 369, 456, 489, 515, 662, 768, 938, 968, 1056, 1218, 1437, 1517, 1549, 1605, 1729, 1747, 1777, 1893, 2038, 2169, 2302, 2429, 2615, 2677, 2777, 2800, 3011, 3181, 3260, 3287, 3298, 3318, 3523, 3568, 3734, 3759, 4133, 4544, 4754, 4805, 4950, 4971, 4992, 5047, 5055, 5056, 5106, 5171, 5247, 5325, 5445, 5587, 5623, 5785, 5935, 6056, 6084, 6121, 6196, 6433, 6736, 6759, 6971, 6982, 7009, 7099, 7119, 7145, 7290, 7351, 7557, 7630, 7766, 7795, 7894, 8279, 8366, 8377, 8450, 8466, 8590, 8641, 8917, 9003, 9223, 9381, 9441, 9732, 9738, 9740, 9838, 9861, 9921]\n"
          ]
        }
      ],
      "source": [
        "f = open(\"inupt_quick_sort.txt\", 'r')\n",
        "lines = f.readlines() # readlines\n",
        "a = []\n",
        "for line in lines:\n",
        "  a.append(int(line))\n",
        "def quick_sort(a, start, end):\n",
        "  if start >= end: return\n",
        "  pivot = start\n",
        "  i = start + 1\n",
        "  j = end\n",
        "  while i <= j:\n",
        "    while a[i] < a[pivot] and i < end: i+=1\n",
        "    while a[j] > a[pivot] and j > start: j-=1\n",
        "    if i >= j: break\n",
        "    tmp = a[i]\n",
        "    a[i] = a[j]\n",
        "    a[j] = tmp\n",
        "  tmp = a[j]\n",
        "  a[j] = a[pivot]\n",
        "  a[pivot] = tmp\n",
        "\n",
        "  quick_sort(a, start, j - 1)\n",
        "  quick_sort(a, j + 1, end)\n",
        "quick_sort(a, 0, len(a) - 1)\n",
        "print(a)\n",
        "\n",
        "f.close()"
      ]
    }
  ]
}